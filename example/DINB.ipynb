{
 "cells": [
  {
   "cell_type": "markdown",
   "metadata": {},
   "source": [
    "# Prerequisites : \n",
    "\n",
    "### _Only in Local Environment set the following ENVIRONMENTAL Variables_.\n",
    "\n",
    "- DI_CLUSTER_URL=\"https://xxxxxxxxxxxxxxxxxx.sapdatahub.com:xxxx\" <br>\n",
    "- DI_TENANT=\"di tenant\" <br>\n",
    "- DI_USERNAME=\"DI logon User name\" <br>\n",
    "- DI_PASSWORD=\"DI logon Password\" <br>\n",
    "- DI_SCENARIO_ID=\"xxxxxxxx-xxxx-xxxx-xxxx-xxxxxxxxxxxx\"<br>\n",
    "\n",
    "_The Notebooks in DI will get the connection details automatically._\n",
    "\n",
    "### _Optional Environmental variable_\n",
    "\n",
    "- DI_PIPELINE_ID=\"xxxxxxxx-xxxx-xxxx-xxxx-xxxxxxxxxxxx\"<br>\n",
    "\n",
    "Pipeline can be set programmatically using `api.set_pipeline_by_id('xxxxxxxx-xxxx-xxxx-xxxx-xxxxxxxxxxxx')`\n",
    "\n",
    "#### <font color=\"red\"> Any operations to DI needs the DI-MODE Enabled.</font>\n",
    "\n",
    "\n",
    "It can be done via `api.set_di_mode_on()`. It can only be switched on if the **PIPELINE ID** is already SET or By creating a complete new PIPELINE via `api.create_pipeline()`. It can be switched off via `api.set_di_mode_off()`. \n",
    "\n"
   ]
  },
  {
   "cell_type": "markdown",
   "metadata": {},
   "source": [
    "### Needed Imports"
   ]
  },
  {
   "cell_type": "code",
   "execution_count": 1,
   "metadata": {},
   "outputs": [
    {
     "name": "stdout",
     "output_type": "stream",
     "text": [
      "connecting to DI...\n",
      "connected in 1.5515708923339844 seconds\n"
     ]
    }
   ],
   "source": [
    "from nb2di import api\n",
    "from nb2di import Operator, PortKind, ContentType\n",
    "from nb2di import Port, PortTemplate, ConnectionTemplate, ConnectionTemplateSourceToTarget"
   ]
  },
  {
   "cell_type": "markdown",
   "metadata": {},
   "source": [
    "# Example 1 : Injecting Notebook Code to existing Pipeline to scriptable Operator in DI."
   ]
  },
  {
   "cell_type": "markdown",
   "metadata": {},
   "source": [
    "#### 1. Set DI Pipeline Context"
   ]
  },
  {
   "cell_type": "code",
   "execution_count": 45,
   "metadata": {},
   "outputs": [
    {
     "name": "stdout",
     "output_type": "stream",
     "text": [
      "Current DI Pipeline Set 36.49886989593506\n"
     ]
    },
    {
     "data": {
      "text/plain": [
       "('c1450391-50d8-46e4-b1ed-6d1b11f3c624', 'base')"
      ]
     },
     "execution_count": 45,
     "metadata": {},
     "output_type": "execute_result"
    }
   ],
   "source": [
    "api.set_pipeline_by_id('c1450391-50d8-46e4-b1ed-6d1b11f3c624')"
   ]
  },
  {
   "cell_type": "markdown",
   "metadata": {},
   "source": [
    "#### 2. Define some function which needs to be injected in operator\n",
    "\n",
    "**instance_id** _is the ID of the operator._"
   ]
  },
  {
   "cell_type": "code",
   "execution_count": 5,
   "metadata": {},
   "outputs": [],
   "source": [
    "\n",
    "@api.operator(instance_id='python3operator1')\n",
    "def some_function():\n",
    "    \n",
    "    some_var = \"hello\"\n",
    "    \n",
    "    # log info in DI\n",
    "    api.logger.info(\"Hello\")\n",
    "    \n",
    "    # send it to some outports\n",
    "    api.send(\"metrics\", api.Message(\"hello\", some_var))"
   ]
  },
  {
   "cell_type": "markdown",
   "metadata": {},
   "source": [
    "#### 3. Test the function locally "
   ]
  },
  {
   "cell_type": "code",
   "execution_count": 7,
   "metadata": {},
   "outputs": [
    {
     "name": "stdout",
     "output_type": "stream",
     "text": [
      "Arguments ('Hello',) \n",
      "Keyed-Arguments {}\n",
      "Arguments ('hello', 'hello') \n",
      "Keyed-Arguments {}\n",
      "Arguments ('metrics', None) \n",
      "Keyed-Arguments {}\n"
     ]
    }
   ],
   "source": [
    "some_function()"
   ]
  },
  {
   "cell_type": "markdown",
   "metadata": {},
   "source": [
    "#### 4. Set DI Mode to ON"
   ]
  },
  {
   "cell_type": "code",
   "execution_count": 8,
   "metadata": {},
   "outputs": [],
   "source": [
    "api.set_di_mode_on()"
   ]
  },
  {
   "cell_type": "markdown",
   "metadata": {},
   "source": [
    "#### 5. Inject to DI"
   ]
  },
  {
   "cell_type": "code",
   "execution_count": 9,
   "metadata": {},
   "outputs": [],
   "source": [
    "# run the function again which injects it to DI Operator.\n",
    "api.set_port_callback(\"input\", some_function)\n",
    "\n",
    "\n",
    "some_function()"
   ]
  },
  {
   "cell_type": "markdown",
   "metadata": {},
   "source": [
    "#### 6. Optional: Execute the Graph Pipeline "
   ]
  },
  {
   "cell_type": "code",
   "execution_count": 9,
   "metadata": {},
   "outputs": [],
   "source": [
    "#api.execute_pipeline()"
   ]
  },
  {
   "cell_type": "markdown",
   "metadata": {},
   "source": [
    "# Example 2 : Create New Operator in Existing Pipeline and Inject Code"
   ]
  },
  {
   "cell_type": "markdown",
   "metadata": {},
   "source": [
    "#### 1. Optional : get component_name of operator"
   ]
  },
  {
   "cell_type": "code",
   "execution_count": 10,
   "metadata": {},
   "outputs": [
    {
     "data": {
      "text/plain": [
       "['com.sap.system.python3Operator',\n",
       " 'com.sap.util.python3TypeToBlob',\n",
       " 'com.sap.util.python3TypeToString']"
      ]
     },
     "execution_count": 10,
     "metadata": {},
     "output_type": "execute_result"
    }
   ],
   "source": [
    "api.get_operator_component_name(name='python3')"
   ]
  },
  {
   "cell_type": "markdown",
   "metadata": {},
   "source": [
    "#### 2. Define some function which needs to be injected in operator.\n",
    "\n",
    "**component_name** : _Operators component name which needs to be created_.\n"
   ]
  },
  {
   "cell_type": "code",
   "execution_count": 11,
   "metadata": {},
   "outputs": [],
   "source": [
    "@api.operator(component_name='com.sap.system.python3Operator')\n",
    "def some_function():\n",
    "    \n",
    "    some_var = \"test\"\n",
    "    \n",
    "    # log info in DI\n",
    "    api.logger.info(\"Hello\")\n",
    "    \n",
    "    # send it to some outports\n",
    "    api.send(\"metrics\", api.Message(\"hello\", some_var))"
   ]
  },
  {
   "cell_type": "markdown",
   "metadata": {},
   "source": [
    "#### 4. Set DI Mode to ON"
   ]
  },
  {
   "cell_type": "code",
   "execution_count": 12,
   "metadata": {},
   "outputs": [],
   "source": [
    "api.set_di_mode_on()"
   ]
  },
  {
   "cell_type": "markdown",
   "metadata": {},
   "source": [
    "#### 5. Create Operator and Inject to DI"
   ]
  },
  {
   "cell_type": "code",
   "execution_count": 13,
   "metadata": {},
   "outputs": [],
   "source": [
    "# call the function...\n",
    "some_function()"
   ]
  },
  {
   "cell_type": "markdown",
   "metadata": {},
   "source": [
    "#### 6. Optional: Execute the Graph Pipeline "
   ]
  },
  {
   "cell_type": "code",
   "execution_count": 14,
   "metadata": {},
   "outputs": [],
   "source": [
    "#api.execute_pipeline()"
   ]
  },
  {
   "cell_type": "markdown",
   "metadata": {},
   "source": [
    "# Example 3 : Create new PORT(s) to existing Operator"
   ]
  },
  {
   "cell_type": "markdown",
   "metadata": {},
   "source": [
    "#### 1. Needed Import"
   ]
  },
  {
   "cell_type": "code",
   "execution_count": 14,
   "metadata": {},
   "outputs": [],
   "source": [
    "from nb2di import PortTemplate, PortKind, ContentType"
   ]
  },
  {
   "cell_type": "markdown",
   "metadata": {},
   "source": [
    "#### 2. Set DI Mode to ON"
   ]
  },
  {
   "cell_type": "code",
   "execution_count": 15,
   "metadata": {},
   "outputs": [],
   "source": [
    "# if not set before..\n",
    "api.set_di_mode_on()"
   ]
  },
  {
   "cell_type": "markdown",
   "metadata": {},
   "source": [
    "#### 3. Create PortTemplate instance\n",
    "- name: unique name\n",
    "- kind: PortKind.INPUT or PortKind.OUTPUT\n",
    "- content_type: ContentType.MESSAGE or ContentType.STRING or etc...\n",
    "- target: instance of ConnectionTemplate\n",
    "\n",
    "**NOTE**: _target is used to set connections automatically to the created port to target operator/port._"
   ]
  },
  {
   "cell_type": "code",
   "execution_count": 16,
   "metadata": {},
   "outputs": [],
   "source": [
    "op_1 = PortTemplate(name=\"testoutport\", kind=PortKind.OUTPUT, content_type=ContentType.MESSAGE)"
   ]
  },
  {
   "cell_type": "code",
   "execution_count": 17,
   "metadata": {},
   "outputs": [],
   "source": [
    "op_2 = PortTemplate(name=\"testoutport2\", kind=PortKind.OUTPUT, content_type=ContentType.MESSAGE)"
   ]
  },
  {
   "cell_type": "markdown",
   "metadata": {},
   "source": [
    "#### 4. Set Ports to Operator\n",
    "\n",
    "_ports is a list., allowing multiple ports created at once._"
   ]
  },
  {
   "cell_type": "code",
   "execution_count": 18,
   "metadata": {},
   "outputs": [],
   "source": [
    "api.add_port_to_operator(instance_id='python3Operator3', ports=[op_1, op_2])"
   ]
  },
  {
   "cell_type": "markdown",
   "metadata": {},
   "source": [
    "**NOTE**: _Sometimes., Ports without connections are not visible in Graph Modeler._"
   ]
  },
  {
   "cell_type": "markdown",
   "metadata": {},
   "source": [
    "#### 5. [Optional] Ports created successfully can be seen in the operator instance."
   ]
  },
  {
   "cell_type": "code",
   "execution_count": 19,
   "metadata": {},
   "outputs": [],
   "source": [
    "from nb2di import Operator"
   ]
  },
  {
   "cell_type": "code",
   "execution_count": 20,
   "metadata": {},
   "outputs": [],
   "source": [
    "opr = Operator(instance_id='python3Operator3')"
   ]
  },
  {
   "cell_type": "code",
   "execution_count": 21,
   "metadata": {},
   "outputs": [
    {
     "name": "stdout",
     "output_type": "stream",
     "text": [
      "[<sapdi.internal.modeler.port_info.PortInfo object at 0x13817a160>, <sapdi.internal.modeler.port_info.PortInfo object at 0x13817a208>]\n",
      "[]\n"
     ]
    }
   ],
   "source": [
    "# should contain the list of outports\n",
    "print(opr.ports.outports.list_port())\n",
    "\n",
    "# should contain the list of inports\n",
    "print(opr.ports.inports.list_port())"
   ]
  },
  {
   "cell_type": "markdown",
   "metadata": {},
   "source": [
    "# Example 4 : Create Connections between from Existing Operators / Ports."
   ]
  },
  {
   "cell_type": "markdown",
   "metadata": {},
   "source": [
    "#### 1. Needed Imports"
   ]
  },
  {
   "cell_type": "code",
   "execution_count": 22,
   "metadata": {},
   "outputs": [],
   "source": [
    "from nb2di import Operator, ConnectionTemplateSourceToTarget"
   ]
  },
  {
   "cell_type": "markdown",
   "metadata": {},
   "source": [
    "#### 2. Set DI Mode to ON"
   ]
  },
  {
   "cell_type": "code",
   "execution_count": 23,
   "metadata": {},
   "outputs": [],
   "source": [
    "# if not set before..\n",
    "api.set_di_mode_on()"
   ]
  },
  {
   "cell_type": "markdown",
   "metadata": {},
   "source": [
    "#### 3. Get Operator's instance"
   ]
  },
  {
   "cell_type": "code",
   "execution_count": 24,
   "metadata": {},
   "outputs": [],
   "source": [
    "# source operator\n",
    "src_opr = Operator(instance_id='python3Operator3')\n",
    "\n",
    "#target operator\n",
    "tgt_opr = Operator(instance_id='submitmetrics1')"
   ]
  },
  {
   "cell_type": "markdown",
   "metadata": {},
   "source": [
    "#### 4. check the ports exists"
   ]
  },
  {
   "cell_type": "code",
   "execution_count": 25,
   "metadata": {},
   "outputs": [
    {
     "name": "stdout",
     "output_type": "stream",
     "text": [
      "source : <nb2di.port.Port object at 0x10934d240>\n",
      "target : <nb2di.port.Port object at 0x13817a2e8>\n"
     ]
    }
   ],
   "source": [
    "print(\"source :\" , src_opr.ports.outports.testoutport)\n",
    "print(\"target :\" , tgt_opr.ports.inports.metrics)"
   ]
  },
  {
   "cell_type": "markdown",
   "metadata": {},
   "source": [
    "#### 5. create connection template"
   ]
  },
  {
   "cell_type": "code",
   "execution_count": 26,
   "metadata": {},
   "outputs": [],
   "source": [
    "conn = ConnectionTemplateSourceToTarget(src=src_opr.ports.outports.testoutport, tgt=tgt_opr.ports.inports.metrics)"
   ]
  },
  {
   "cell_type": "markdown",
   "metadata": {},
   "source": [
    "#### 6. create connection\n",
    "- **connections** is list where multiple connections created together."
   ]
  },
  {
   "cell_type": "code",
   "execution_count": 27,
   "metadata": {},
   "outputs": [],
   "source": [
    "api.add_connections_to_port(connections=[conn])"
   ]
  },
  {
   "cell_type": "markdown",
   "metadata": {},
   "source": [
    "# Example 5 : Create New Pipeline Graph"
   ]
  },
  {
   "cell_type": "markdown",
   "metadata": {},
   "source": [
    "#### 1. Set DI Mode to ON"
   ]
  },
  {
   "cell_type": "code",
   "execution_count": 28,
   "metadata": {},
   "outputs": [],
   "source": [
    "# if not set before..\n",
    "api.set_di_mode_on()"
   ]
  },
  {
   "cell_type": "markdown",
   "metadata": {},
   "source": [
    "#### 2. Optional: Get Pipeline templates..\n",
    "_only if you want to know the technical names of the template._"
   ]
  },
  {
   "cell_type": "code",
   "execution_count": 29,
   "metadata": {},
   "outputs": [
    {
     "data": {
      "text/plain": [
       "['com.sap.dsp.templates.python_producer_template',\n",
       " 'com.sap.dsp.templates.python_consumer_template']"
      ]
     },
     "execution_count": 29,
     "metadata": {},
     "output_type": "execute_result"
    }
   ],
   "source": [
    "api.get_pipeline_template_name(name='PYTHOn')"
   ]
  },
  {
   "cell_type": "markdown",
   "metadata": {},
   "source": [
    "#### 3. Create Pipeline\n",
    "- name: Optional\n",
    "- desc: Optional\n",
    "- template: Optional ( Example: com.sap.dsp.templates.python_producer_template )\n",
    "\n",
    "**Note**: _The created pipeline automatically set to current pipeline context. <br> In-case you want to work with different pipeline then `api.set_pipeline_by_id('xxxxxxxx-xxxx-xxxx-xxxx-xxxxxxxxxxxx')`._\n"
   ]
  },
  {
   "cell_type": "code",
   "execution_count": 30,
   "metadata": {},
   "outputs": [
    {
     "name": "stdout",
     "output_type": "stream",
     "text": [
      "Current DI Pipeline Set 5.623921155929565\n"
     ]
    },
    {
     "data": {
      "text/plain": [
       "'d9111d03-3253-404e-b5dd-777e2c544aff'"
      ]
     },
     "execution_count": 30,
     "metadata": {},
     "output_type": "execute_result"
    }
   ],
   "source": [
    "# Empty pipeline autogenerated names\n",
    "api.create_pipeline(name=\"test-1\")"
   ]
  },
  {
   "cell_type": "code",
   "execution_count": 31,
   "metadata": {},
   "outputs": [
    {
     "name": "stdout",
     "output_type": "stream",
     "text": [
      "Current DI Pipeline Set 59.77549910545349\n"
     ]
    },
    {
     "data": {
      "text/plain": [
       "'d1ed2adf-e088-4528-aa26-7cb5b6455549'"
      ]
     },
     "execution_count": 31,
     "metadata": {},
     "output_type": "execute_result"
    }
   ],
   "source": [
    "# Template pipeline\n",
    "api.create_pipeline(name=\"test-2\", template='com.sap.dsp.templates.python_producer_template')"
   ]
  },
  {
   "cell_type": "markdown",
   "metadata": {},
   "source": [
    "# Example 6 : Create Everything from Scratch via Notebook ( Pipeline, operators , connections ) all at once.\n",
    "\n",
    "In this example., We create.,\n",
    "- Python Operator\n",
    "    - test  (OUTPORT)\n",
    "- Submit Metrics Operator\n",
    "    - metrics (INPORT)   -- generated automatically by operator.\n",
    "    - response (OUTPORT) -- generated automatically by operator.\n",
    "- Graph Terminator Operator\n",
    "    - stop (INPORT)\n",
    "    \n",
    "And **create connections** to the ports like.,\n",
    "\n",
    "python operator's **test** port -> submit metrics **metrics** port <br>\n",
    "submit metrics **response** port -> graph terminator **stop** port"
   ]
  },
  {
   "cell_type": "markdown",
   "metadata": {},
   "source": [
    "#### 1. Needed Imports"
   ]
  },
  {
   "cell_type": "code",
   "execution_count": 33,
   "metadata": {},
   "outputs": [],
   "source": [
    "from nb2di import Operator, ConnectionTemplateSourceToTarget\n",
    "from nb2di import PortTemplate, PortKind, ContentType\n",
    "from nb2di import api"
   ]
  },
  {
   "cell_type": "markdown",
   "metadata": {},
   "source": [
    "#### 2. Create New Pipeline"
   ]
  },
  {
   "cell_type": "code",
   "execution_count": 34,
   "metadata": {},
   "outputs": [
    {
     "name": "stdout",
     "output_type": "stream",
     "text": [
      "Current DI Pipeline Set 2.7942211627960205\n"
     ]
    },
    {
     "data": {
      "text/plain": [
       "'02647ff7-c395-4390-aa89-214da469dc12'"
      ]
     },
     "execution_count": 34,
     "metadata": {},
     "output_type": "execute_result"
    }
   ],
   "source": [
    "api.create_pipeline()"
   ]
  },
  {
   "cell_type": "code",
   "execution_count": 35,
   "metadata": {},
   "outputs": [
    {
     "data": {
      "text/plain": [
       "('02647ff7-c395-4390-aa89-214da469dc12', 'gen-pipeline-1')"
      ]
     },
     "execution_count": 35,
     "metadata": {},
     "output_type": "execute_result"
    }
   ],
   "source": [
    "api.get_current_pipeline_id()"
   ]
  },
  {
   "cell_type": "markdown",
   "metadata": {},
   "source": [
    "#### 3. Create Operators and Ports"
   ]
  },
  {
   "cell_type": "code",
   "execution_count": 36,
   "metadata": {},
   "outputs": [],
   "source": [
    "# create port template\n",
    "python_opr_port = PortTemplate(name=\"test\", kind=PortKind.OUTPUT, content_type=ContentType.MESSAGE)\n",
    "\n",
    "# create python operator\n",
    "python_opr = Operator(component_name=\"com.sap.system.python3Operator\", create_ports= [python_opr_port])"
   ]
  },
  {
   "cell_type": "code",
   "execution_count": 37,
   "metadata": {},
   "outputs": [
    {
     "data": {
      "text/plain": [
       "['com.sap.hadoop.submitJob', 'com.sap.livy.submit', 'com.sap.ml.submitMetrics']"
      ]
     },
     "execution_count": 37,
     "metadata": {},
     "output_type": "execute_result"
    }
   ],
   "source": [
    "api.get_operator_component_name(name=\"submit\")"
   ]
  },
  {
   "cell_type": "code",
   "execution_count": 38,
   "metadata": {},
   "outputs": [],
   "source": [
    "metrics_opr = Operator(component_name=\"com.sap.ml.submitMetrics\")"
   ]
  },
  {
   "cell_type": "code",
   "execution_count": 39,
   "metadata": {},
   "outputs": [
    {
     "data": {
      "text/plain": [
       "['com.sap.dh.terminator', 'com.sap.util.graphTerminator']"
      ]
     },
     "execution_count": 39,
     "metadata": {},
     "output_type": "execute_result"
    }
   ],
   "source": [
    "api.get_operator_component_name(name=\"terminator\")"
   ]
  },
  {
   "cell_type": "code",
   "execution_count": 40,
   "metadata": {},
   "outputs": [],
   "source": [
    "# create port template\n",
    "terminator_opr_port = PortTemplate(name=\"stop\", kind=PortKind.INPUT, content_type=ContentType.ANY)\n",
    "\n",
    "terminator_opr = Operator(component_name=\"com.sap.util.graphTerminator\", create_ports=[terminator_opr_port])"
   ]
  },
  {
   "cell_type": "code",
   "execution_count": 41,
   "metadata": {},
   "outputs": [
    {
     "name": "stdout",
     "output_type": "stream",
     "text": [
      "test\n",
      "metrics\n",
      "response\n",
      "stop\n"
     ]
    }
   ],
   "source": [
    "## check the ports\n",
    "print(python_opr.ports.outports.test.name)\n",
    "print(metrics_opr.ports.inports.metrics.name)\n",
    "print(metrics_opr.ports.outports.response.name)\n",
    "print(terminator_opr.ports.inports.stop.name)"
   ]
  },
  {
   "cell_type": "markdown",
   "metadata": {},
   "source": [
    "#### 4. Create Connections from Operator's Port"
   ]
  },
  {
   "cell_type": "code",
   "execution_count": 42,
   "metadata": {},
   "outputs": [],
   "source": [
    "python_opr.ports.outports.test.connection.add_connection(metrics_opr.ports.inports.metrics)"
   ]
  },
  {
   "cell_type": "code",
   "execution_count": 43,
   "metadata": {},
   "outputs": [],
   "source": [
    "metrics_opr.ports.outports.response.connection.add_connection(terminator_opr.ports.inports.stop)"
   ]
  },
  {
   "cell_type": "markdown",
   "metadata": {},
   "source": [
    "#### 5. Save Graph\n",
    "\n",
    "**Note**: save graph can be called from any operator instance."
   ]
  },
  {
   "cell_type": "code",
   "execution_count": 44,
   "metadata": {},
   "outputs": [],
   "source": [
    "python_opr.save_graph()"
   ]
  },
  {
   "cell_type": "code",
   "execution_count": null,
   "metadata": {},
   "outputs": [],
   "source": []
  },
  {
   "cell_type": "code",
   "execution_count": null,
   "metadata": {},
   "outputs": [],
   "source": []
  }
 ],
 "metadata": {
  "kernelspec": {
   "display_name": "Python 3",
   "language": "python",
   "name": "python3"
  },
  "language_info": {
   "codemirror_mode": {
    "name": "ipython",
    "version": 3
   },
   "file_extension": ".py",
   "mimetype": "text/x-python",
   "name": "python",
   "nbconvert_exporter": "python",
   "pygments_lexer": "ipython3",
   "version": "3.6.0"
  }
 },
 "nbformat": 4,
 "nbformat_minor": 4
}
